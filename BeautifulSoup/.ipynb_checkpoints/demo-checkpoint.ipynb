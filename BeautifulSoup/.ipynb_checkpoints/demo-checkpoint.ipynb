{
 "metadata": {
  "name": "",
  "signature": "sha256:bc0abba0c069738469ffa502ca83b41f124b6c5b7f056e4fb5631c5bc96cc36d"
 },
 "nbformat": 3,
 "nbformat_minor": 0,
 "worksheets": [
  {
   "cells": [
    {
     "cell_type": "code",
     "collapsed": false,
     "input": [
      "# imports\n",
      "from bs4 import BeautifulSoup\n",
      "\n",
      "# create handle to BeautifulSoup instance\n",
      "soup = BeautifulSoup(open(\"./data/gu-home.html\"))\n",
      "\n",
      "# save all anchors from the page\n",
      "all_anchors = soup.find_all('a')\n",
      "all_anchors[:10]"
     ],
     "language": "python",
     "metadata": {},
     "outputs": []
    },
    {
     "cell_type": "code",
     "collapsed": false,
     "input": [
      "# print the first 20 anchor titles and hrefs\n",
      "for anchor in all_anchors[:20]:\n",
      "    print(anchor.text + '\\t' + anchor['href'])"
     ],
     "language": "python",
     "metadata": {},
     "outputs": []
    },
    {
     "cell_type": "code",
     "collapsed": false,
     "input": [
      "# create an array of tuples containing the text and href\n",
      "links = [(a.text, a['href']) for a in all_anchors]\n",
      "links[:20]"
     ],
     "language": "python",
     "metadata": {},
     "outputs": []
    },
    {
     "cell_type": "code",
     "collapsed": false,
     "input": [
      "# use urlparse to get the FQDNs (site addresses)\n",
      "from urlparse import urlparse\n",
      "\n",
      "links = [(a.text, a['href'], urlparse(a['href']).netloc) for a in all_anchors]\n",
      "\n",
      "# display example tuple\n",
      "links[1:2] "
     ],
     "language": "python",
     "metadata": {},
     "outputs": []
    },
    {
     "cell_type": "code",
     "collapsed": false,
     "input": [
      "# create a pandas DataFrame using this array of anchor data\n",
      "import pandas as pd\n",
      "pd.set_option('display.max_rows', 100) \n",
      "\n",
      "df = pd.DataFrame(links, columns=['title','href','site'])\n",
      "df"
     ],
     "language": "python",
     "metadata": {},
     "outputs": []
    },
    {
     "cell_type": "code",
     "collapsed": false,
     "input": [
      "# view quick statistics\n",
      "df.describe()"
     ],
     "language": "python",
     "metadata": {},
     "outputs": []
    },
    {
     "cell_type": "code",
     "collapsed": false,
     "input": [
      "# create a frequency count of the sites\n",
      "dist = df.groupby ('site').agg({'site': len})\n",
      "dist"
     ],
     "language": "python",
     "metadata": {},
     "outputs": []
    },
    {
     "cell_type": "code",
     "collapsed": true,
     "input": [
      "# create a bar graph to depict the frequencies\n",
      "import matplotlib.pyplot as plt\n",
      "\n",
      "dist.plot(kind='bar');"
     ],
     "language": "python",
     "metadata": {},
     "outputs": []
    },
    {
     "cell_type": "code",
     "collapsed": false,
     "input": [],
     "language": "python",
     "metadata": {},
     "outputs": []
    }
   ],
   "metadata": {}
  }
 ]
}