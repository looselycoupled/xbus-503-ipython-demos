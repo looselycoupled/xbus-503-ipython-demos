{
 "metadata": {
  "name": "",
  "signature": "sha256:5ef8e1b3aa1da4878cce53bb299bc2d55c5c9f72b303c2d1c0ecd1867be923ad"
 },
 "nbformat": 3,
 "nbformat_minor": 0,
 "worksheets": [
  {
   "cells": [
    {
     "cell_type": "code",
     "collapsed": false,
     "input": [
      "%matplotlib inline\n",
      "\n",
      "# imports\n",
      "from bs4 import BeautifulSoup\n",
      "\n",
      "# create handle to BeautifulSoup instance\n",
      "soup = BeautifulSoup(open(\"./data/gu-home.html\"))\n",
      "\n",
      "# save all anchors from the page\n",
      "all_anchors = soup.find_all('a')\n",
      "all_anchors[:10]"
     ],
     "language": "python",
     "metadata": {},
     "outputs": []
    },
    {
     "cell_type": "code",
     "collapsed": false,
     "input": [
      "# of the first 20 links, print all the ones with text (not linked images)\n",
      "for anchor in all_anchors[:20]:\n",
      "    if anchor.text.strip():\n",
      "        print(anchor.text.strip() + '\\n' + anchor['href'] + '\\n')"
     ],
     "language": "python",
     "metadata": {},
     "outputs": []
    },
    {
     "cell_type": "code",
     "collapsed": false,
     "input": [
      "# create an array of tuples containing the text and href\n",
      "links = [(a.text, a['href']) for a in all_anchors]\n",
      "links[:20]"
     ],
     "language": "python",
     "metadata": {},
     "outputs": []
    },
    {
     "cell_type": "code",
     "collapsed": false,
     "input": [
      "# use urlparse to get the FQDNs (site addresses)\n",
      "from urlparse import urlparse\n",
      "\n",
      "links = [(a.text, a['href'], urlparse(a['href']).netloc) for a in all_anchors]\n",
      "\n",
      "# display example tuple\n",
      "links[4:5] "
     ],
     "language": "python",
     "metadata": {},
     "outputs": []
    },
    {
     "cell_type": "code",
     "collapsed": false,
     "input": [
      "# create a pandas DataFrame using this array of anchor data\n",
      "import pandas as pd\n",
      "pd.set_option('display.max_rows', 100) \n",
      "\n",
      "df = pd.DataFrame(links, columns=['title','href','site'])\n",
      "df"
     ],
     "language": "python",
     "metadata": {},
     "outputs": []
    },
    {
     "cell_type": "code",
     "collapsed": false,
     "input": [
      "# view quick statistics\n",
      "df.describe()"
     ],
     "language": "python",
     "metadata": {},
     "outputs": []
    },
    {
     "cell_type": "code",
     "collapsed": false,
     "input": [
      "# create a frequency count of the sites\n",
      "dist = df.groupby ('site').agg({'site': len})\n",
      "dist"
     ],
     "language": "python",
     "metadata": {},
     "outputs": []
    },
    {
     "cell_type": "code",
     "collapsed": true,
     "input": [
      "# create a bar graph to depict the frequencies\n",
      "import matplotlib.pyplot as plt\n",
      "\n",
      "dist.plot(kind='bar');"
     ],
     "language": "python",
     "metadata": {},
     "outputs": []
    },
    {
     "cell_type": "code",
     "collapsed": false,
     "input": [],
     "language": "python",
     "metadata": {},
     "outputs": []
    }
   ],
   "metadata": {}
  }
 ]
}