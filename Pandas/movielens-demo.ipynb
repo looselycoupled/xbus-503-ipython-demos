{
 "cells": [
  {
   "cell_type": "markdown",
   "metadata": {},
   "source": [
    "# Movies\n",
    "\n",
    "This notebook was originally authored by Abhijit Dasgupta and was adapted from [Python for Data Analysis](http://shop.oreilly.com/product/0636920023784.do) by Wes McKinney"
   ]
  },
  {
   "cell_type": "markdown",
   "metadata": {},
   "source": [
    "## Objectives\n",
    "\n",
    "* What are the highest rated movies?\n",
    "* What is the best movie for date night?\n",
    "* Which movies do men and women disagree on the most?"
   ]
  },
  {
   "cell_type": "code",
   "execution_count": 1,
   "metadata": {
    "collapsed": true
   },
   "outputs": [],
   "source": [
    "import pandas as pd\n",
    "import os\n",
    "engine='python'"
   ]
  },
  {
   "cell_type": "markdown",
   "metadata": {},
   "source": [
    "### Reading in the data using `merge`"
   ]
  },
  {
   "cell_type": "code",
   "execution_count": 2,
   "metadata": {
    "collapsed": false
   },
   "outputs": [
    {
     "name": "stderr",
     "output_type": "stream",
     "text": [
      "/Users/allen/Teaching/fix/xbus-503-ipython-demos/env/lib/python3.5/site-packages/ipykernel/__main__.py:3: ParserWarning: Falling back to the 'python' engine because the 'c' engine does not support regex separators (separators > 1 char and different from '\\s+' are interpreted as regex); you can avoid this warning by specifying engine='python'.\n",
      "  app.launch_new_instance()\n",
      "/Users/allen/Teaching/fix/xbus-503-ipython-demos/env/lib/python3.5/site-packages/ipykernel/__main__.py:7: ParserWarning: Falling back to the 'python' engine because the 'c' engine does not support regex separators (separators > 1 char and different from '\\s+' are interpreted as regex); you can avoid this warning by specifying engine='python'.\n",
      "/Users/allen/Teaching/fix/xbus-503-ipython-demos/env/lib/python3.5/site-packages/ipykernel/__main__.py:11: ParserWarning: Falling back to the 'python' engine because the 'c' engine does not support regex separators (separators > 1 char and different from '\\s+' are interpreted as regex); you can avoid this warning by specifying engine='python'.\n"
     ]
    }
   ],
   "source": [
    "unames = ['user_id','gender','age','occupation','zip']\n",
    "users = pd.read_table(os.path.join('data','movies','users.dat'), \n",
    "                      sep='::', header=None, names=unames)\n",
    "   \n",
    "rnames = ['user_id', 'movie_id', 'rating', 'timestamp']\n",
    "ratings = pd.read_table(os.path.join('data','movies','ratings.dat'), \n",
    "                        sep='::', header=None, names=rnames)\n",
    "\n",
    "mnames = ['movie_id', 'title','genres']\n",
    "movies = pd.read_table(os.path.join('data','movies','movies.dat'), \n",
    "                       sep='::', header=None, names=mnames)\n",
    "data = pd.merge(pd.merge(ratings, users), movies)\n"
   ]
  },
  {
   "cell_type": "code",
   "execution_count": 3,
   "metadata": {
    "collapsed": false
   },
   "outputs": [
    {
     "data": {
      "text/html": [
       "<div>\n",
       "<table border=\"1\" class=\"dataframe\">\n",
       "  <thead>\n",
       "    <tr style=\"text-align: right;\">\n",
       "      <th></th>\n",
       "      <th>user_id</th>\n",
       "      <th>movie_id</th>\n",
       "      <th>rating</th>\n",
       "      <th>timestamp</th>\n",
       "      <th>gender</th>\n",
       "      <th>age</th>\n",
       "      <th>occupation</th>\n",
       "      <th>zip</th>\n",
       "      <th>title</th>\n",
       "      <th>genres</th>\n",
       "    </tr>\n",
       "  </thead>\n",
       "  <tbody>\n",
       "    <tr>\n",
       "      <th>0</th>\n",
       "      <td>1</td>\n",
       "      <td>1193</td>\n",
       "      <td>5</td>\n",
       "      <td>978300760</td>\n",
       "      <td>F</td>\n",
       "      <td>1</td>\n",
       "      <td>10</td>\n",
       "      <td>48067</td>\n",
       "      <td>One Flew Over the Cuckoo's Nest (1975)</td>\n",
       "      <td>Drama</td>\n",
       "    </tr>\n",
       "    <tr>\n",
       "      <th>1</th>\n",
       "      <td>2</td>\n",
       "      <td>1193</td>\n",
       "      <td>5</td>\n",
       "      <td>978298413</td>\n",
       "      <td>M</td>\n",
       "      <td>56</td>\n",
       "      <td>16</td>\n",
       "      <td>70072</td>\n",
       "      <td>One Flew Over the Cuckoo's Nest (1975)</td>\n",
       "      <td>Drama</td>\n",
       "    </tr>\n",
       "    <tr>\n",
       "      <th>2</th>\n",
       "      <td>12</td>\n",
       "      <td>1193</td>\n",
       "      <td>4</td>\n",
       "      <td>978220179</td>\n",
       "      <td>M</td>\n",
       "      <td>25</td>\n",
       "      <td>12</td>\n",
       "      <td>32793</td>\n",
       "      <td>One Flew Over the Cuckoo's Nest (1975)</td>\n",
       "      <td>Drama</td>\n",
       "    </tr>\n",
       "    <tr>\n",
       "      <th>3</th>\n",
       "      <td>15</td>\n",
       "      <td>1193</td>\n",
       "      <td>4</td>\n",
       "      <td>978199279</td>\n",
       "      <td>M</td>\n",
       "      <td>25</td>\n",
       "      <td>7</td>\n",
       "      <td>22903</td>\n",
       "      <td>One Flew Over the Cuckoo's Nest (1975)</td>\n",
       "      <td>Drama</td>\n",
       "    </tr>\n",
       "    <tr>\n",
       "      <th>4</th>\n",
       "      <td>17</td>\n",
       "      <td>1193</td>\n",
       "      <td>5</td>\n",
       "      <td>978158471</td>\n",
       "      <td>M</td>\n",
       "      <td>50</td>\n",
       "      <td>1</td>\n",
       "      <td>95350</td>\n",
       "      <td>One Flew Over the Cuckoo's Nest (1975)</td>\n",
       "      <td>Drama</td>\n",
       "    </tr>\n",
       "  </tbody>\n",
       "</table>\n",
       "</div>"
      ],
      "text/plain": [
       "   user_id  movie_id  rating  timestamp gender  age  occupation    zip  \\\n",
       "0        1      1193       5  978300760      F    1          10  48067   \n",
       "1        2      1193       5  978298413      M   56          16  70072   \n",
       "2       12      1193       4  978220179      M   25          12  32793   \n",
       "3       15      1193       4  978199279      M   25           7  22903   \n",
       "4       17      1193       5  978158471      M   50           1  95350   \n",
       "\n",
       "                                    title genres  \n",
       "0  One Flew Over the Cuckoo's Nest (1975)  Drama  \n",
       "1  One Flew Over the Cuckoo's Nest (1975)  Drama  \n",
       "2  One Flew Over the Cuckoo's Nest (1975)  Drama  \n",
       "3  One Flew Over the Cuckoo's Nest (1975)  Drama  \n",
       "4  One Flew Over the Cuckoo's Nest (1975)  Drama  "
      ]
     },
     "execution_count": 3,
     "metadata": {},
     "output_type": "execute_result"
    }
   ],
   "source": [
    "data.head()"
   ]
  },
  {
   "cell_type": "markdown",
   "metadata": {},
   "source": [
    "## What is the highest rated movie?"
   ]
  },
  {
   "cell_type": "code",
   "execution_count": 30,
   "metadata": {
    "collapsed": false
   },
   "outputs": [
    {
     "data": {
      "text/html": [
       "<div>\n",
       "<table border=\"1\" class=\"dataframe\">\n",
       "  <thead>\n",
       "    <tr style=\"text-align: right;\">\n",
       "      <th></th>\n",
       "      <th>title</th>\n",
       "      <th>rating</th>\n",
       "    </tr>\n",
       "  </thead>\n",
       "  <tbody>\n",
       "    <tr>\n",
       "      <th>0</th>\n",
       "      <td>One Flew Over the Cuckoo's Nest (1975)</td>\n",
       "      <td>5</td>\n",
       "    </tr>\n",
       "    <tr>\n",
       "      <th>1</th>\n",
       "      <td>One Flew Over the Cuckoo's Nest (1975)</td>\n",
       "      <td>5</td>\n",
       "    </tr>\n",
       "    <tr>\n",
       "      <th>2</th>\n",
       "      <td>One Flew Over the Cuckoo's Nest (1975)</td>\n",
       "      <td>4</td>\n",
       "    </tr>\n",
       "    <tr>\n",
       "      <th>3</th>\n",
       "      <td>One Flew Over the Cuckoo's Nest (1975)</td>\n",
       "      <td>4</td>\n",
       "    </tr>\n",
       "    <tr>\n",
       "      <th>4</th>\n",
       "      <td>One Flew Over the Cuckoo's Nest (1975)</td>\n",
       "      <td>5</td>\n",
       "    </tr>\n",
       "  </tbody>\n",
       "</table>\n",
       "</div>"
      ],
      "text/plain": [
       "                                    title  rating\n",
       "0  One Flew Over the Cuckoo's Nest (1975)       5\n",
       "1  One Flew Over the Cuckoo's Nest (1975)       5\n",
       "2  One Flew Over the Cuckoo's Nest (1975)       4\n",
       "3  One Flew Over the Cuckoo's Nest (1975)       4\n",
       "4  One Flew Over the Cuckoo's Nest (1975)       5"
      ]
     },
     "execution_count": 30,
     "metadata": {},
     "output_type": "execute_result"
    }
   ],
   "source": [
    "tmp = data[['title','rating']]\n",
    "tmp.head()"
   ]
  },
  {
   "cell_type": "code",
   "execution_count": 31,
   "metadata": {
    "collapsed": false
   },
   "outputs": [
    {
     "name": "stdout",
     "output_type": "stream",
     "text": [
      "            rating\n",
      "count  3706.000000\n",
      "mean      3.238892\n",
      "std       0.672925\n",
      "min       1.000000\n",
      "25%       2.822705\n",
      "50%       3.331546\n",
      "75%       3.740741\n",
      "max       5.000000\n"
     ]
    },
    {
     "data": {
      "text/html": [
       "<div>\n",
       "<table border=\"1\" class=\"dataframe\">\n",
       "  <thead>\n",
       "    <tr style=\"text-align: right;\">\n",
       "      <th></th>\n",
       "      <th>rating</th>\n",
       "    </tr>\n",
       "    <tr>\n",
       "      <th>title</th>\n",
       "      <th></th>\n",
       "    </tr>\n",
       "  </thead>\n",
       "  <tbody>\n",
       "    <tr>\n",
       "      <th>$1,000,000 Duck (1971)</th>\n",
       "      <td>3.027027</td>\n",
       "    </tr>\n",
       "    <tr>\n",
       "      <th>'Night Mother (1986)</th>\n",
       "      <td>3.371429</td>\n",
       "    </tr>\n",
       "    <tr>\n",
       "      <th>'Til There Was You (1997)</th>\n",
       "      <td>2.692308</td>\n",
       "    </tr>\n",
       "    <tr>\n",
       "      <th>'burbs, The (1989)</th>\n",
       "      <td>2.910891</td>\n",
       "    </tr>\n",
       "    <tr>\n",
       "      <th>...And Justice for All (1979)</th>\n",
       "      <td>3.713568</td>\n",
       "    </tr>\n",
       "    <tr>\n",
       "      <th>1-900 (1994)</th>\n",
       "      <td>2.500000</td>\n",
       "    </tr>\n",
       "    <tr>\n",
       "      <th>10 Things I Hate About You (1999)</th>\n",
       "      <td>3.422857</td>\n",
       "    </tr>\n",
       "    <tr>\n",
       "      <th>101 Dalmatians (1961)</th>\n",
       "      <td>3.596460</td>\n",
       "    </tr>\n",
       "    <tr>\n",
       "      <th>101 Dalmatians (1996)</th>\n",
       "      <td>3.046703</td>\n",
       "    </tr>\n",
       "    <tr>\n",
       "      <th>12 Angry Men (1957)</th>\n",
       "      <td>4.295455</td>\n",
       "    </tr>\n",
       "  </tbody>\n",
       "</table>\n",
       "</div>"
      ],
      "text/plain": [
       "                                     rating\n",
       "title                                      \n",
       "$1,000,000 Duck (1971)             3.027027\n",
       "'Night Mother (1986)               3.371429\n",
       "'Til There Was You (1997)          2.692308\n",
       "'burbs, The (1989)                 2.910891\n",
       "...And Justice for All (1979)      3.713568\n",
       "1-900 (1994)                       2.500000\n",
       "10 Things I Hate About You (1999)  3.422857\n",
       "101 Dalmatians (1961)              3.596460\n",
       "101 Dalmatians (1996)              3.046703\n",
       "12 Angry Men (1957)                4.295455"
      ]
     },
     "execution_count": 31,
     "metadata": {},
     "output_type": "execute_result"
    }
   ],
   "source": [
    "mean_rating = tmp.groupby('title').mean()\n",
    "print(mean_rating.describe())\n",
    "mean_rating.head(10)"
   ]
  },
  {
   "cell_type": "code",
   "execution_count": 32,
   "metadata": {
    "collapsed": false
   },
   "outputs": [
    {
     "data": {
      "text/html": [
       "<div>\n",
       "<table border=\"1\" class=\"dataframe\">\n",
       "  <thead>\n",
       "    <tr style=\"text-align: right;\">\n",
       "      <th></th>\n",
       "      <th>rating</th>\n",
       "    </tr>\n",
       "    <tr>\n",
       "      <th>title</th>\n",
       "      <th></th>\n",
       "    </tr>\n",
       "  </thead>\n",
       "  <tbody>\n",
       "    <tr>\n",
       "      <th>Ulysses (Ulisse) (1954)</th>\n",
       "      <td>5.0</td>\n",
       "    </tr>\n",
       "    <tr>\n",
       "      <th>Lured (1947)</th>\n",
       "      <td>5.0</td>\n",
       "    </tr>\n",
       "    <tr>\n",
       "      <th>Follow the Bitch (1998)</th>\n",
       "      <td>5.0</td>\n",
       "    </tr>\n",
       "    <tr>\n",
       "      <th>Bittersweet Motel (2000)</th>\n",
       "      <td>5.0</td>\n",
       "    </tr>\n",
       "    <tr>\n",
       "      <th>Song of Freedom (1936)</th>\n",
       "      <td>5.0</td>\n",
       "    </tr>\n",
       "    <tr>\n",
       "      <th>One Little Indian (1973)</th>\n",
       "      <td>5.0</td>\n",
       "    </tr>\n",
       "    <tr>\n",
       "      <th>Smashing Time (1967)</th>\n",
       "      <td>5.0</td>\n",
       "    </tr>\n",
       "    <tr>\n",
       "      <th>Schlafes Bruder (Brother of Sleep) (1995)</th>\n",
       "      <td>5.0</td>\n",
       "    </tr>\n",
       "    <tr>\n",
       "      <th>Gate of Heavenly Peace, The (1995)</th>\n",
       "      <td>5.0</td>\n",
       "    </tr>\n",
       "    <tr>\n",
       "      <th>Baby, The (1973)</th>\n",
       "      <td>5.0</td>\n",
       "    </tr>\n",
       "  </tbody>\n",
       "</table>\n",
       "</div>"
      ],
      "text/plain": [
       "                                           rating\n",
       "title                                            \n",
       "Ulysses (Ulisse) (1954)                       5.0\n",
       "Lured (1947)                                  5.0\n",
       "Follow the Bitch (1998)                       5.0\n",
       "Bittersweet Motel (2000)                      5.0\n",
       "Song of Freedom (1936)                        5.0\n",
       "One Little Indian (1973)                      5.0\n",
       "Smashing Time (1967)                          5.0\n",
       "Schlafes Bruder (Brother of Sleep) (1995)     5.0\n",
       "Gate of Heavenly Peace, The (1995)            5.0\n",
       "Baby, The (1973)                              5.0"
      ]
     },
     "execution_count": 32,
     "metadata": {},
     "output_type": "execute_result"
    }
   ],
   "source": [
    "# view the top ten sorted by rating\n",
    "mean_rating.sort_values(by='rating', ascending=False).head(10)"
   ]
  },
  {
   "cell_type": "markdown",
   "metadata": {},
   "source": [
    "Seems a bit odd?  What's wrong with this picture?"
   ]
  },
  {
   "cell_type": "code",
   "execution_count": 33,
   "metadata": {
    "collapsed": false
   },
   "outputs": [
    {
     "data": {
      "text/html": [
       "<div>\n",
       "<table border=\"1\" class=\"dataframe\">\n",
       "  <thead>\n",
       "    <tr style=\"text-align: right;\">\n",
       "      <th></th>\n",
       "      <th>mean</th>\n",
       "      <th>count</th>\n",
       "    </tr>\n",
       "    <tr>\n",
       "      <th>title</th>\n",
       "      <th></th>\n",
       "      <th></th>\n",
       "    </tr>\n",
       "  </thead>\n",
       "  <tbody>\n",
       "    <tr>\n",
       "      <th>Ulysses (Ulisse) (1954)</th>\n",
       "      <td>5.0</td>\n",
       "      <td>1</td>\n",
       "    </tr>\n",
       "    <tr>\n",
       "      <th>Lured (1947)</th>\n",
       "      <td>5.0</td>\n",
       "      <td>1</td>\n",
       "    </tr>\n",
       "    <tr>\n",
       "      <th>Follow the Bitch (1998)</th>\n",
       "      <td>5.0</td>\n",
       "      <td>1</td>\n",
       "    </tr>\n",
       "    <tr>\n",
       "      <th>Bittersweet Motel (2000)</th>\n",
       "      <td>5.0</td>\n",
       "      <td>1</td>\n",
       "    </tr>\n",
       "    <tr>\n",
       "      <th>Song of Freedom (1936)</th>\n",
       "      <td>5.0</td>\n",
       "      <td>1</td>\n",
       "    </tr>\n",
       "    <tr>\n",
       "      <th>One Little Indian (1973)</th>\n",
       "      <td>5.0</td>\n",
       "      <td>1</td>\n",
       "    </tr>\n",
       "    <tr>\n",
       "      <th>Smashing Time (1967)</th>\n",
       "      <td>5.0</td>\n",
       "      <td>2</td>\n",
       "    </tr>\n",
       "    <tr>\n",
       "      <th>Schlafes Bruder (Brother of Sleep) (1995)</th>\n",
       "      <td>5.0</td>\n",
       "      <td>1</td>\n",
       "    </tr>\n",
       "    <tr>\n",
       "      <th>Gate of Heavenly Peace, The (1995)</th>\n",
       "      <td>5.0</td>\n",
       "      <td>3</td>\n",
       "    </tr>\n",
       "    <tr>\n",
       "      <th>Baby, The (1973)</th>\n",
       "      <td>5.0</td>\n",
       "      <td>1</td>\n",
       "    </tr>\n",
       "  </tbody>\n",
       "</table>\n",
       "</div>"
      ],
      "text/plain": [
       "                                           mean  count\n",
       "title                                                 \n",
       "Ulysses (Ulisse) (1954)                     5.0      1\n",
       "Lured (1947)                                5.0      1\n",
       "Follow the Bitch (1998)                     5.0      1\n",
       "Bittersweet Motel (2000)                    5.0      1\n",
       "Song of Freedom (1936)                      5.0      1\n",
       "One Little Indian (1973)                    5.0      1\n",
       "Smashing Time (1967)                        5.0      2\n",
       "Schlafes Bruder (Brother of Sleep) (1995)   5.0      1\n",
       "Gate of Heavenly Peace, The (1995)          5.0      3\n",
       "Baby, The (1973)                            5.0      1"
      ]
     },
     "execution_count": 33,
     "metadata": {},
     "output_type": "execute_result"
    }
   ],
   "source": [
    "# view review counts\n",
    "mean_rating = tmp.groupby('title')['rating'].agg(['mean','count']) \n",
    "mean_rating.sort_values(by='mean', ascending=False).head(10)"
   ]
  },
  {
   "cell_type": "markdown",
   "metadata": {},
   "source": [
    "### Filter our Movies\n",
    "\n",
    "Only look at movies that have had at least 1000 ratings."
   ]
  },
  {
   "cell_type": "code",
   "execution_count": 14,
   "metadata": {
    "collapsed": false
   },
   "outputs": [
    {
     "data": {
      "text/html": [
       "<div>\n",
       "<table border=\"1\" class=\"dataframe\">\n",
       "  <thead>\n",
       "    <tr style=\"text-align: right;\">\n",
       "      <th></th>\n",
       "      <th>mean</th>\n",
       "      <th>count</th>\n",
       "    </tr>\n",
       "    <tr>\n",
       "      <th>title</th>\n",
       "      <th></th>\n",
       "      <th></th>\n",
       "    </tr>\n",
       "  </thead>\n",
       "  <tbody>\n",
       "    <tr>\n",
       "      <th>2001: A Space Odyssey (1968)</th>\n",
       "      <td>4.068765</td>\n",
       "      <td>1716</td>\n",
       "    </tr>\n",
       "    <tr>\n",
       "      <th>Abyss, The (1989)</th>\n",
       "      <td>3.683965</td>\n",
       "      <td>1715</td>\n",
       "    </tr>\n",
       "    <tr>\n",
       "      <th>African Queen, The (1951)</th>\n",
       "      <td>4.251656</td>\n",
       "      <td>1057</td>\n",
       "    </tr>\n",
       "    <tr>\n",
       "      <th>Air Force One (1997)</th>\n",
       "      <td>3.588290</td>\n",
       "      <td>1076</td>\n",
       "    </tr>\n",
       "    <tr>\n",
       "      <th>Airplane! (1980)</th>\n",
       "      <td>3.971115</td>\n",
       "      <td>1731</td>\n",
       "    </tr>\n",
       "  </tbody>\n",
       "</table>\n",
       "</div>"
      ],
      "text/plain": [
       "                                  mean  count\n",
       "title                                        \n",
       "2001: A Space Odyssey (1968)  4.068765   1716\n",
       "Abyss, The (1989)             3.683965   1715\n",
       "African Queen, The (1951)     4.251656   1057\n",
       "Air Force One (1997)          3.588290   1076\n",
       "Airplane! (1980)              3.971115   1731"
      ]
     },
     "execution_count": 14,
     "metadata": {},
     "output_type": "execute_result"
    }
   ],
   "source": [
    "mask = mean_rating['count'] > 1000\n",
    "mean_rating[mask].head()"
   ]
  },
  {
   "cell_type": "code",
   "execution_count": 17,
   "metadata": {
    "collapsed": false
   },
   "outputs": [
    {
     "data": {
      "text/html": [
       "<div>\n",
       "<table border=\"1\" class=\"dataframe\">\n",
       "  <thead>\n",
       "    <tr style=\"text-align: right;\">\n",
       "      <th></th>\n",
       "      <th>mean</th>\n",
       "      <th>count</th>\n",
       "    </tr>\n",
       "    <tr>\n",
       "      <th>title</th>\n",
       "      <th></th>\n",
       "      <th></th>\n",
       "    </tr>\n",
       "  </thead>\n",
       "  <tbody>\n",
       "    <tr>\n",
       "      <th>Shawshank Redemption, The (1994)</th>\n",
       "      <td>4.554558</td>\n",
       "      <td>2227</td>\n",
       "    </tr>\n",
       "    <tr>\n",
       "      <th>Godfather, The (1972)</th>\n",
       "      <td>4.524966</td>\n",
       "      <td>2223</td>\n",
       "    </tr>\n",
       "    <tr>\n",
       "      <th>Usual Suspects, The (1995)</th>\n",
       "      <td>4.517106</td>\n",
       "      <td>1783</td>\n",
       "    </tr>\n",
       "    <tr>\n",
       "      <th>Schindler's List (1993)</th>\n",
       "      <td>4.510417</td>\n",
       "      <td>2304</td>\n",
       "    </tr>\n",
       "    <tr>\n",
       "      <th>Raiders of the Lost Ark (1981)</th>\n",
       "      <td>4.477725</td>\n",
       "      <td>2514</td>\n",
       "    </tr>\n",
       "    <tr>\n",
       "      <th>Rear Window (1954)</th>\n",
       "      <td>4.476190</td>\n",
       "      <td>1050</td>\n",
       "    </tr>\n",
       "    <tr>\n",
       "      <th>Star Wars: Episode IV - A New Hope (1977)</th>\n",
       "      <td>4.453694</td>\n",
       "      <td>2991</td>\n",
       "    </tr>\n",
       "    <tr>\n",
       "      <th>Dr. Strangelove or: How I Learned to Stop Worrying and Love the Bomb (1963)</th>\n",
       "      <td>4.449890</td>\n",
       "      <td>1367</td>\n",
       "    </tr>\n",
       "    <tr>\n",
       "      <th>Casablanca (1942)</th>\n",
       "      <td>4.412822</td>\n",
       "      <td>1669</td>\n",
       "    </tr>\n",
       "    <tr>\n",
       "      <th>Sixth Sense, The (1999)</th>\n",
       "      <td>4.406263</td>\n",
       "      <td>2459</td>\n",
       "    </tr>\n",
       "  </tbody>\n",
       "</table>\n",
       "</div>"
      ],
      "text/plain": [
       "                                                        mean  count\n",
       "title                                                              \n",
       "Shawshank Redemption, The (1994)                    4.554558   2227\n",
       "Godfather, The (1972)                               4.524966   2223\n",
       "Usual Suspects, The (1995)                          4.517106   1783\n",
       "Schindler's List (1993)                             4.510417   2304\n",
       "Raiders of the Lost Ark (1981)                      4.477725   2514\n",
       "Rear Window (1954)                                  4.476190   1050\n",
       "Star Wars: Episode IV - A New Hope (1977)           4.453694   2991\n",
       "Dr. Strangelove or: How I Learned to Stop Worry...  4.449890   1367\n",
       "Casablanca (1942)                                   4.412822   1669\n",
       "Sixth Sense, The (1999)                             4.406263   2459"
      ]
     },
     "execution_count": 17,
     "metadata": {},
     "output_type": "execute_result"
    }
   ],
   "source": [
    "mean_rating[mask].sort_values(by='mean', ascending=False).head(10)"
   ]
  },
  {
   "cell_type": "markdown",
   "metadata": {},
   "source": [
    "## What is the best movie for both men and women?"
   ]
  },
  {
   "cell_type": "markdown",
   "metadata": {},
   "source": [
    "We would like to creat another data frame of our data that contains mean ratings with movie totals as row lables and gender as colunm lables."
   ]
  },
  {
   "cell_type": "code",
   "execution_count": 18,
   "metadata": {
    "collapsed": false
   },
   "outputs": [
    {
     "data": {
      "text/html": [
       "<div>\n",
       "<table border=\"1\" class=\"dataframe\">\n",
       "  <thead>\n",
       "    <tr style=\"text-align: right;\">\n",
       "      <th>gender</th>\n",
       "      <th>F</th>\n",
       "      <th>M</th>\n",
       "    </tr>\n",
       "    <tr>\n",
       "      <th>title</th>\n",
       "      <th></th>\n",
       "      <th></th>\n",
       "    </tr>\n",
       "  </thead>\n",
       "  <tbody>\n",
       "    <tr>\n",
       "      <th>$1,000,000 Duck (1971)</th>\n",
       "      <td>3.375000</td>\n",
       "      <td>2.761905</td>\n",
       "    </tr>\n",
       "    <tr>\n",
       "      <th>'Night Mother (1986)</th>\n",
       "      <td>3.388889</td>\n",
       "      <td>3.352941</td>\n",
       "    </tr>\n",
       "    <tr>\n",
       "      <th>'Til There Was You (1997)</th>\n",
       "      <td>2.675676</td>\n",
       "      <td>2.733333</td>\n",
       "    </tr>\n",
       "    <tr>\n",
       "      <th>'burbs, The (1989)</th>\n",
       "      <td>2.793478</td>\n",
       "      <td>2.962085</td>\n",
       "    </tr>\n",
       "    <tr>\n",
       "      <th>...And Justice for All (1979)</th>\n",
       "      <td>3.828571</td>\n",
       "      <td>3.689024</td>\n",
       "    </tr>\n",
       "    <tr>\n",
       "      <th>1-900 (1994)</th>\n",
       "      <td>2.000000</td>\n",
       "      <td>3.000000</td>\n",
       "    </tr>\n",
       "    <tr>\n",
       "      <th>10 Things I Hate About You (1999)</th>\n",
       "      <td>3.646552</td>\n",
       "      <td>3.311966</td>\n",
       "    </tr>\n",
       "    <tr>\n",
       "      <th>101 Dalmatians (1961)</th>\n",
       "      <td>3.791444</td>\n",
       "      <td>3.500000</td>\n",
       "    </tr>\n",
       "    <tr>\n",
       "      <th>101 Dalmatians (1996)</th>\n",
       "      <td>3.240000</td>\n",
       "      <td>2.911215</td>\n",
       "    </tr>\n",
       "    <tr>\n",
       "      <th>12 Angry Men (1957)</th>\n",
       "      <td>4.184397</td>\n",
       "      <td>4.328421</td>\n",
       "    </tr>\n",
       "  </tbody>\n",
       "</table>\n",
       "</div>"
      ],
      "text/plain": [
       "gender                                    F         M\n",
       "title                                                \n",
       "$1,000,000 Duck (1971)             3.375000  2.761905\n",
       "'Night Mother (1986)               3.388889  3.352941\n",
       "'Til There Was You (1997)          2.675676  2.733333\n",
       "'burbs, The (1989)                 2.793478  2.962085\n",
       "...And Justice for All (1979)      3.828571  3.689024\n",
       "1-900 (1994)                       2.000000  3.000000\n",
       "10 Things I Hate About You (1999)  3.646552  3.311966\n",
       "101 Dalmatians (1961)              3.791444  3.500000\n",
       "101 Dalmatians (1996)              3.240000  2.911215\n",
       "12 Angry Men (1957)                4.184397  4.328421"
      ]
     },
     "execution_count": 18,
     "metadata": {},
     "output_type": "execute_result"
    }
   ],
   "source": [
    "mean_ratings = pd.pivot_table(data, 'rating', index='title', columns ='gender', aggfunc='mean')\n",
    "mean_ratings.head(10)"
   ]
  },
  {
   "cell_type": "code",
   "execution_count": 19,
   "metadata": {
    "collapsed": false
   },
   "outputs": [
    {
     "data": {
      "text/plain": [
       "title\n",
       "$1,000,000 Duck (1971)               False\n",
       "'Night Mother (1986)                 False\n",
       "'Til There Was You (1997)            False\n",
       "'burbs, The (1989)                   False\n",
       "...And Justice for All (1979)        False\n",
       "1-900 (1994)                         False\n",
       "10 Things I Hate About You (1999)    False\n",
       "101 Dalmatians (1961)                False\n",
       "101 Dalmatians (1996)                False\n",
       "12 Angry Men (1957)                  False\n",
       "Name: count, dtype: bool"
      ]
     },
     "execution_count": 19,
     "metadata": {},
     "output_type": "execute_result"
    }
   ],
   "source": [
    "mask.head(10)"
   ]
  },
  {
   "cell_type": "markdown",
   "metadata": {},
   "source": [
    "But this has **all** the movies, not just the ones with the largest **count**.\n",
    "\n",
    "Notice:\n",
    "\n",
    "- The DataFrame `mean_ratings` has the `title` as the index.\n",
    "- The `mask` also has `title` as the index."
   ]
  },
  {
   "cell_type": "code",
   "execution_count": 20,
   "metadata": {
    "collapsed": false
   },
   "outputs": [
    {
     "data": {
      "text/html": [
       "<div>\n",
       "<table border=\"1\" class=\"dataframe\">\n",
       "  <thead>\n",
       "    <tr style=\"text-align: right;\">\n",
       "      <th>gender</th>\n",
       "      <th>F</th>\n",
       "      <th>M</th>\n",
       "    </tr>\n",
       "    <tr>\n",
       "      <th>title</th>\n",
       "      <th></th>\n",
       "      <th></th>\n",
       "    </tr>\n",
       "  </thead>\n",
       "  <tbody>\n",
       "    <tr>\n",
       "      <th>2001: A Space Odyssey (1968)</th>\n",
       "      <td>3.825581</td>\n",
       "      <td>4.129738</td>\n",
       "    </tr>\n",
       "    <tr>\n",
       "      <th>Abyss, The (1989)</th>\n",
       "      <td>3.659236</td>\n",
       "      <td>3.689507</td>\n",
       "    </tr>\n",
       "    <tr>\n",
       "      <th>African Queen, The (1951)</th>\n",
       "      <td>4.324232</td>\n",
       "      <td>4.223822</td>\n",
       "    </tr>\n",
       "    <tr>\n",
       "      <th>Air Force One (1997)</th>\n",
       "      <td>3.699588</td>\n",
       "      <td>3.555822</td>\n",
       "    </tr>\n",
       "    <tr>\n",
       "      <th>Airplane! (1980)</th>\n",
       "      <td>3.656566</td>\n",
       "      <td>4.064419</td>\n",
       "    </tr>\n",
       "  </tbody>\n",
       "</table>\n",
       "</div>"
      ],
      "text/plain": [
       "gender                               F         M\n",
       "title                                           \n",
       "2001: A Space Odyssey (1968)  3.825581  4.129738\n",
       "Abyss, The (1989)             3.659236  3.689507\n",
       "African Queen, The (1951)     4.324232  4.223822\n",
       "Air Force One (1997)          3.699588  3.555822\n",
       "Airplane! (1980)              3.656566  4.064419"
      ]
     },
     "execution_count": 20,
     "metadata": {},
     "output_type": "execute_result"
    }
   ],
   "source": [
    "top_mean_ratings = mean_ratings.ix[mask]\n",
    "top_mean_ratings.head()"
   ]
  },
  {
   "cell_type": "markdown",
   "metadata": {},
   "source": [
    "What are the top rated movies by women?"
   ]
  },
  {
   "cell_type": "code",
   "execution_count": 22,
   "metadata": {
    "collapsed": false
   },
   "outputs": [
    {
     "data": {
      "text/html": [
       "<div>\n",
       "<table border=\"1\" class=\"dataframe\">\n",
       "  <thead>\n",
       "    <tr style=\"text-align: right;\">\n",
       "      <th>gender</th>\n",
       "      <th>F</th>\n",
       "      <th>M</th>\n",
       "    </tr>\n",
       "    <tr>\n",
       "      <th>title</th>\n",
       "      <th></th>\n",
       "      <th></th>\n",
       "    </tr>\n",
       "  </thead>\n",
       "  <tbody>\n",
       "    <tr>\n",
       "      <th>Schindler's List (1993)</th>\n",
       "      <td>4.562602</td>\n",
       "      <td>4.491415</td>\n",
       "    </tr>\n",
       "    <tr>\n",
       "      <th>Shawshank Redemption, The (1994)</th>\n",
       "      <td>4.539075</td>\n",
       "      <td>4.560625</td>\n",
       "    </tr>\n",
       "    <tr>\n",
       "      <th>Usual Suspects, The (1995)</th>\n",
       "      <td>4.513317</td>\n",
       "      <td>4.518248</td>\n",
       "    </tr>\n",
       "    <tr>\n",
       "      <th>Rear Window (1954)</th>\n",
       "      <td>4.484536</td>\n",
       "      <td>4.472991</td>\n",
       "    </tr>\n",
       "    <tr>\n",
       "      <th>Sixth Sense, The (1999)</th>\n",
       "      <td>4.477410</td>\n",
       "      <td>4.379944</td>\n",
       "    </tr>\n",
       "  </tbody>\n",
       "</table>\n",
       "</div>"
      ],
      "text/plain": [
       "gender                                   F         M\n",
       "title                                               \n",
       "Schindler's List (1993)           4.562602  4.491415\n",
       "Shawshank Redemption, The (1994)  4.539075  4.560625\n",
       "Usual Suspects, The (1995)        4.513317  4.518248\n",
       "Rear Window (1954)                4.484536  4.472991\n",
       "Sixth Sense, The (1999)           4.477410  4.379944"
      ]
     },
     "execution_count": 22,
     "metadata": {},
     "output_type": "execute_result"
    }
   ],
   "source": [
    "top_female = top_mean_ratings.sort_values('F', ascending=False)\n",
    "top_female.head()"
   ]
  },
  {
   "cell_type": "markdown",
   "metadata": {},
   "source": [
    "What are the top rated by men?"
   ]
  },
  {
   "cell_type": "code",
   "execution_count": 23,
   "metadata": {
    "collapsed": false
   },
   "outputs": [
    {
     "data": {
      "text/html": [
       "<div>\n",
       "<table border=\"1\" class=\"dataframe\">\n",
       "  <thead>\n",
       "    <tr style=\"text-align: right;\">\n",
       "      <th>gender</th>\n",
       "      <th>F</th>\n",
       "      <th>M</th>\n",
       "    </tr>\n",
       "    <tr>\n",
       "      <th>title</th>\n",
       "      <th></th>\n",
       "      <th></th>\n",
       "    </tr>\n",
       "  </thead>\n",
       "  <tbody>\n",
       "    <tr>\n",
       "      <th>Godfather, The (1972)</th>\n",
       "      <td>4.314700</td>\n",
       "      <td>4.583333</td>\n",
       "    </tr>\n",
       "    <tr>\n",
       "      <th>Shawshank Redemption, The (1994)</th>\n",
       "      <td>4.539075</td>\n",
       "      <td>4.560625</td>\n",
       "    </tr>\n",
       "    <tr>\n",
       "      <th>Raiders of the Lost Ark (1981)</th>\n",
       "      <td>4.332168</td>\n",
       "      <td>4.520597</td>\n",
       "    </tr>\n",
       "    <tr>\n",
       "      <th>Usual Suspects, The (1995)</th>\n",
       "      <td>4.513317</td>\n",
       "      <td>4.518248</td>\n",
       "    </tr>\n",
       "    <tr>\n",
       "      <th>Star Wars: Episode IV - A New Hope (1977)</th>\n",
       "      <td>4.302937</td>\n",
       "      <td>4.495307</td>\n",
       "    </tr>\n",
       "  </tbody>\n",
       "</table>\n",
       "</div>"
      ],
      "text/plain": [
       "gender                                            F         M\n",
       "title                                                        \n",
       "Godfather, The (1972)                      4.314700  4.583333\n",
       "Shawshank Redemption, The (1994)           4.539075  4.560625\n",
       "Raiders of the Lost Ark (1981)             4.332168  4.520597\n",
       "Usual Suspects, The (1995)                 4.513317  4.518248\n",
       "Star Wars: Episode IV - A New Hope (1977)  4.302937  4.495307"
      ]
     },
     "execution_count": 23,
     "metadata": {},
     "output_type": "execute_result"
    }
   ],
   "source": [
    "top_male = top_mean_ratings.sort_values('M', ascending=False)\n",
    "top_male.head(5)"
   ]
  },
  {
   "cell_type": "markdown",
   "metadata": {},
   "source": [
    "### Which ones do men and women differ on the least, i.e., date night?"
   ]
  },
  {
   "cell_type": "code",
   "execution_count": 26,
   "metadata": {
    "collapsed": false
   },
   "outputs": [
    {
     "name": "stderr",
     "output_type": "stream",
     "text": [
      "/Users/allen/Teaching/fix/xbus-503-ipython-demos/env/lib/python3.5/site-packages/ipykernel/__main__.py:1: SettingWithCopyWarning: \n",
      "A value is trying to be set on a copy of a slice from a DataFrame.\n",
      "Try using .loc[row_indexer,col_indexer] = value instead\n",
      "\n",
      "See the caveats in the documentation: http://pandas.pydata.org/pandas-docs/stable/indexing.html#indexing-view-versus-copy\n",
      "  if __name__ == '__main__':\n"
     ]
    },
    {
     "data": {
      "text/html": [
       "<div>\n",
       "<table border=\"1\" class=\"dataframe\">\n",
       "  <thead>\n",
       "    <tr style=\"text-align: right;\">\n",
       "      <th>gender</th>\n",
       "      <th>F</th>\n",
       "      <th>M</th>\n",
       "      <th>diff</th>\n",
       "    </tr>\n",
       "    <tr>\n",
       "      <th>title</th>\n",
       "      <th></th>\n",
       "      <th></th>\n",
       "      <th></th>\n",
       "    </tr>\n",
       "  </thead>\n",
       "  <tbody>\n",
       "    <tr>\n",
       "      <th>Jerry Maguire (1996)</th>\n",
       "      <td>3.758315</td>\n",
       "      <td>3.759424</td>\n",
       "      <td>0.001109</td>\n",
       "    </tr>\n",
       "    <tr>\n",
       "      <th>Indiana Jones and the Temple of Doom (1984)</th>\n",
       "      <td>3.674312</td>\n",
       "      <td>3.676568</td>\n",
       "      <td>0.002256</td>\n",
       "    </tr>\n",
       "    <tr>\n",
       "      <th>Good Will Hunting (1997)</th>\n",
       "      <td>4.174672</td>\n",
       "      <td>4.177064</td>\n",
       "      <td>0.002392</td>\n",
       "    </tr>\n",
       "    <tr>\n",
       "      <th>Fugitive, The (1993)</th>\n",
       "      <td>4.100457</td>\n",
       "      <td>4.104046</td>\n",
       "      <td>0.003590</td>\n",
       "    </tr>\n",
       "    <tr>\n",
       "      <th>Batman Returns (1992)</th>\n",
       "      <td>2.980100</td>\n",
       "      <td>2.975904</td>\n",
       "      <td>0.004196</td>\n",
       "    </tr>\n",
       "    <tr>\n",
       "      <th>Usual Suspects, The (1995)</th>\n",
       "      <td>4.513317</td>\n",
       "      <td>4.518248</td>\n",
       "      <td>0.004931</td>\n",
       "    </tr>\n",
       "    <tr>\n",
       "      <th>Green Mile, The (1999)</th>\n",
       "      <td>4.159722</td>\n",
       "      <td>4.153105</td>\n",
       "      <td>0.006617</td>\n",
       "    </tr>\n",
       "    <tr>\n",
       "      <th>Boogie Nights (1997)</th>\n",
       "      <td>3.763838</td>\n",
       "      <td>3.771295</td>\n",
       "      <td>0.007458</td>\n",
       "    </tr>\n",
       "    <tr>\n",
       "      <th>Chicken Run (2000)</th>\n",
       "      <td>3.885559</td>\n",
       "      <td>3.877339</td>\n",
       "      <td>0.008220</td>\n",
       "    </tr>\n",
       "    <tr>\n",
       "      <th>Blair Witch Project, The (1999)</th>\n",
       "      <td>3.038732</td>\n",
       "      <td>3.029381</td>\n",
       "      <td>0.009351</td>\n",
       "    </tr>\n",
       "  </tbody>\n",
       "</table>\n",
       "</div>"
      ],
      "text/plain": [
       "gender                                              F         M      diff\n",
       "title                                                                    \n",
       "Jerry Maguire (1996)                         3.758315  3.759424  0.001109\n",
       "Indiana Jones and the Temple of Doom (1984)  3.674312  3.676568  0.002256\n",
       "Good Will Hunting (1997)                     4.174672  4.177064  0.002392\n",
       "Fugitive, The (1993)                         4.100457  4.104046  0.003590\n",
       "Batman Returns (1992)                        2.980100  2.975904  0.004196\n",
       "Usual Suspects, The (1995)                   4.513317  4.518248  0.004931\n",
       "Green Mile, The (1999)                       4.159722  4.153105  0.006617\n",
       "Boogie Nights (1997)                         3.763838  3.771295  0.007458\n",
       "Chicken Run (2000)                           3.885559  3.877339  0.008220\n",
       "Blair Witch Project, The (1999)              3.038732  3.029381  0.009351"
      ]
     },
     "execution_count": 26,
     "metadata": {},
     "output_type": "execute_result"
    }
   ],
   "source": [
    "top_mean_ratings['diff'] = abs(top_mean_ratings['F'] - top_mean_ratings['M'])\n",
    "top_mean_ratings.sort_values(by='diff', ascending=True).head(10)"
   ]
  },
  {
   "cell_type": "markdown",
   "metadata": {},
   "source": [
    "### What's the worst movie for date night?"
   ]
  },
  {
   "cell_type": "code",
   "execution_count": 28,
   "metadata": {
    "collapsed": false
   },
   "outputs": [
    {
     "data": {
      "text/html": [
       "<div>\n",
       "<table border=\"1\" class=\"dataframe\">\n",
       "  <thead>\n",
       "    <tr style=\"text-align: right;\">\n",
       "      <th>gender</th>\n",
       "      <th>F</th>\n",
       "      <th>M</th>\n",
       "      <th>diff</th>\n",
       "    </tr>\n",
       "    <tr>\n",
       "      <th>title</th>\n",
       "      <th></th>\n",
       "      <th></th>\n",
       "      <th></th>\n",
       "    </tr>\n",
       "  </thead>\n",
       "  <tbody>\n",
       "    <tr>\n",
       "      <th>Animal House (1978)</th>\n",
       "      <td>3.628906</td>\n",
       "      <td>4.167192</td>\n",
       "      <td>0.538286</td>\n",
       "    </tr>\n",
       "    <tr>\n",
       "      <th>Rocky Horror Picture Show, The (1975)</th>\n",
       "      <td>3.673016</td>\n",
       "      <td>3.160131</td>\n",
       "      <td>0.512885</td>\n",
       "    </tr>\n",
       "    <tr>\n",
       "      <th>Mary Poppins (1964)</th>\n",
       "      <td>4.197740</td>\n",
       "      <td>3.730594</td>\n",
       "      <td>0.467147</td>\n",
       "    </tr>\n",
       "    <tr>\n",
       "      <th>Reservoir Dogs (1992)</th>\n",
       "      <td>3.769231</td>\n",
       "      <td>4.213873</td>\n",
       "      <td>0.444642</td>\n",
       "    </tr>\n",
       "    <tr>\n",
       "      <th>Gone with the Wind (1939)</th>\n",
       "      <td>4.269841</td>\n",
       "      <td>3.829371</td>\n",
       "      <td>0.440471</td>\n",
       "    </tr>\n",
       "    <tr>\n",
       "      <th>South Park: Bigger, Longer and Uncut (1999)</th>\n",
       "      <td>3.422481</td>\n",
       "      <td>3.846686</td>\n",
       "      <td>0.424206</td>\n",
       "    </tr>\n",
       "    <tr>\n",
       "      <th>Airplane! (1980)</th>\n",
       "      <td>3.656566</td>\n",
       "      <td>4.064419</td>\n",
       "      <td>0.407854</td>\n",
       "    </tr>\n",
       "    <tr>\n",
       "      <th>Predator (1987)</th>\n",
       "      <td>3.299401</td>\n",
       "      <td>3.706195</td>\n",
       "      <td>0.406793</td>\n",
       "    </tr>\n",
       "    <tr>\n",
       "      <th>Godfather: Part II, The (1974)</th>\n",
       "      <td>4.040936</td>\n",
       "      <td>4.437778</td>\n",
       "      <td>0.396842</td>\n",
       "    </tr>\n",
       "    <tr>\n",
       "      <th>Clockwork Orange, A (1971)</th>\n",
       "      <td>3.757009</td>\n",
       "      <td>4.145813</td>\n",
       "      <td>0.388803</td>\n",
       "    </tr>\n",
       "  </tbody>\n",
       "</table>\n",
       "</div>"
      ],
      "text/plain": [
       "gender                                              F         M      diff\n",
       "title                                                                    \n",
       "Animal House (1978)                          3.628906  4.167192  0.538286\n",
       "Rocky Horror Picture Show, The (1975)        3.673016  3.160131  0.512885\n",
       "Mary Poppins (1964)                          4.197740  3.730594  0.467147\n",
       "Reservoir Dogs (1992)                        3.769231  4.213873  0.444642\n",
       "Gone with the Wind (1939)                    4.269841  3.829371  0.440471\n",
       "South Park: Bigger, Longer and Uncut (1999)  3.422481  3.846686  0.424206\n",
       "Airplane! (1980)                             3.656566  4.064419  0.407854\n",
       "Predator (1987)                              3.299401  3.706195  0.406793\n",
       "Godfather: Part II, The (1974)               4.040936  4.437778  0.396842\n",
       "Clockwork Orange, A (1971)                   3.757009  4.145813  0.388803"
      ]
     },
     "execution_count": 28,
     "metadata": {},
     "output_type": "execute_result"
    }
   ],
   "source": [
    "top_mean_ratings.sort_values('diff', ascending=False).head(10)"
   ]
  },
  {
   "cell_type": "code",
   "execution_count": null,
   "metadata": {
    "collapsed": false
   },
   "outputs": [],
   "source": []
  }
 ],
 "metadata": {
  "css": [
   ""
  ],
  "kernelspec": {
   "display_name": "Python 3",
   "language": "python",
   "name": "python3"
  },
  "language_info": {
   "codemirror_mode": {
    "name": "ipython",
    "version": 3
   },
   "file_extension": ".py",
   "mimetype": "text/x-python",
   "name": "python",
   "nbconvert_exporter": "python",
   "pygments_lexer": "ipython3",
   "version": "3.5.1"
  }
 },
 "nbformat": 4,
 "nbformat_minor": 0
}
