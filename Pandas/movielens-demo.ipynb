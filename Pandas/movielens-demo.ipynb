{
 "metadata": {
  "css": [
   ""
  ],
  "name": "",
  "signature": "sha256:88ae7cc90af58bb6f19a75b869b700d09b3dca47a9c5aa9b9c4f4ab4d887f36d"
 },
 "nbformat": 3,
 "nbformat_minor": 0,
 "worksheets": [
  {
   "cells": [
    {
     "cell_type": "markdown",
     "metadata": {},
     "source": [
      "# Movies\n",
      "\n",
      "This notebook was originally authored by Abhijit Dasgupta and was adapted from [Python for Data Analysis](http://shop.oreilly.com/product/0636920023784.do) by Wes McKinney"
     ]
    },
    {
     "cell_type": "markdown",
     "metadata": {},
     "source": [
      "##Objectives\n",
      "\n",
      "* What are the highest rated movies?\n",
      "* What is the best movie for date night?\n",
      "* Which movies do men and women disagree on the most?"
     ]
    },
    {
     "cell_type": "code",
     "collapsed": true,
     "input": [
      "import pandas as pd\n",
      "import os\n",
      "engine='python'"
     ],
     "language": "python",
     "metadata": {},
     "outputs": [],
     "prompt_number": 1
    },
    {
     "cell_type": "markdown",
     "metadata": {},
     "source": [
      "###Reading in the data using `merge`"
     ]
    },
    {
     "cell_type": "code",
     "collapsed": false,
     "input": [
      "unames = ['user_id','gender','age','occupation','zip']\n",
      "users = pd.read_table(os.path.join('data','movies','users.dat'), \n",
      "                      sep='::', header=None, names=unames)\n",
      "   \n",
      "rnames = ['user_id', 'movie_id', 'rating', 'timestamp']\n",
      "ratings = pd.read_table(os.path.join('data','movies','ratings.dat'), \n",
      "                        sep='::', header=None, names=rnames)\n",
      "\n",
      "mnames = ['movie_id', 'title','genres']\n",
      "movies = pd.read_table(os.path.join('data','movies','movies.dat'), \n",
      "                       sep='::', header=None, names=mnames)\n",
      "data = pd.merge(pd.merge(ratings, users), movies)\n"
     ],
     "language": "python",
     "metadata": {},
     "outputs": [
      {
       "output_type": "stream",
       "stream": "stderr",
       "text": [
        "/Users/allen/Projects/xbus-503-ipython-demos/env/lib/python2.7/site-packages/pandas/io/parsers.py:639: ParserWarning: Falling back to the 'python' engine because the 'c' engine does not support regex separators; you can avoid this warning by specifying engine='python'.\n",
        "  ParserWarning)\n"
       ]
      }
     ],
     "prompt_number": 2
    },
    {
     "cell_type": "code",
     "collapsed": false,
     "input": [
      "data.head()"
     ],
     "language": "python",
     "metadata": {},
     "outputs": [
      {
       "html": [
        "<div style=\"max-height:1000px;max-width:1500px;overflow:auto;\">\n",
        "<table border=\"1\" class=\"dataframe\">\n",
        "  <thead>\n",
        "    <tr style=\"text-align: right;\">\n",
        "      <th></th>\n",
        "      <th>user_id</th>\n",
        "      <th>movie_id</th>\n",
        "      <th>rating</th>\n",
        "      <th>timestamp</th>\n",
        "      <th>gender</th>\n",
        "      <th>age</th>\n",
        "      <th>occupation</th>\n",
        "      <th>zip</th>\n",
        "      <th>title</th>\n",
        "      <th>genres</th>\n",
        "    </tr>\n",
        "  </thead>\n",
        "  <tbody>\n",
        "    <tr>\n",
        "      <th>0</th>\n",
        "      <td>  1</td>\n",
        "      <td> 1193</td>\n",
        "      <td> 5</td>\n",
        "      <td> 978300760</td>\n",
        "      <td> F</td>\n",
        "      <td>  1</td>\n",
        "      <td> 10</td>\n",
        "      <td> 48067</td>\n",
        "      <td> One Flew Over the Cuckoo's Nest (1975)</td>\n",
        "      <td> Drama</td>\n",
        "    </tr>\n",
        "    <tr>\n",
        "      <th>1</th>\n",
        "      <td>  2</td>\n",
        "      <td> 1193</td>\n",
        "      <td> 5</td>\n",
        "      <td> 978298413</td>\n",
        "      <td> M</td>\n",
        "      <td> 56</td>\n",
        "      <td> 16</td>\n",
        "      <td> 70072</td>\n",
        "      <td> One Flew Over the Cuckoo's Nest (1975)</td>\n",
        "      <td> Drama</td>\n",
        "    </tr>\n",
        "    <tr>\n",
        "      <th>2</th>\n",
        "      <td> 12</td>\n",
        "      <td> 1193</td>\n",
        "      <td> 4</td>\n",
        "      <td> 978220179</td>\n",
        "      <td> M</td>\n",
        "      <td> 25</td>\n",
        "      <td> 12</td>\n",
        "      <td> 32793</td>\n",
        "      <td> One Flew Over the Cuckoo's Nest (1975)</td>\n",
        "      <td> Drama</td>\n",
        "    </tr>\n",
        "    <tr>\n",
        "      <th>3</th>\n",
        "      <td> 15</td>\n",
        "      <td> 1193</td>\n",
        "      <td> 4</td>\n",
        "      <td> 978199279</td>\n",
        "      <td> M</td>\n",
        "      <td> 25</td>\n",
        "      <td>  7</td>\n",
        "      <td> 22903</td>\n",
        "      <td> One Flew Over the Cuckoo's Nest (1975)</td>\n",
        "      <td> Drama</td>\n",
        "    </tr>\n",
        "    <tr>\n",
        "      <th>4</th>\n",
        "      <td> 17</td>\n",
        "      <td> 1193</td>\n",
        "      <td> 5</td>\n",
        "      <td> 978158471</td>\n",
        "      <td> M</td>\n",
        "      <td> 50</td>\n",
        "      <td>  1</td>\n",
        "      <td> 95350</td>\n",
        "      <td> One Flew Over the Cuckoo's Nest (1975)</td>\n",
        "      <td> Drama</td>\n",
        "    </tr>\n",
        "  </tbody>\n",
        "</table>\n",
        "</div>"
       ],
       "metadata": {},
       "output_type": "pyout",
       "prompt_number": 3,
       "text": [
        "   user_id  movie_id  rating  timestamp gender  age  occupation    zip  \\\n",
        "0        1      1193       5  978300760      F    1          10  48067   \n",
        "1        2      1193       5  978298413      M   56          16  70072   \n",
        "2       12      1193       4  978220179      M   25          12  32793   \n",
        "3       15      1193       4  978199279      M   25           7  22903   \n",
        "4       17      1193       5  978158471      M   50           1  95350   \n",
        "\n",
        "                                    title genres  \n",
        "0  One Flew Over the Cuckoo's Nest (1975)  Drama  \n",
        "1  One Flew Over the Cuckoo's Nest (1975)  Drama  \n",
        "2  One Flew Over the Cuckoo's Nest (1975)  Drama  \n",
        "3  One Flew Over the Cuckoo's Nest (1975)  Drama  \n",
        "4  One Flew Over the Cuckoo's Nest (1975)  Drama  "
       ]
      }
     ],
     "prompt_number": 3
    },
    {
     "cell_type": "markdown",
     "metadata": {},
     "source": [
      "## What is the highest rated movie?"
     ]
    },
    {
     "cell_type": "code",
     "collapsed": false,
     "input": [
      "tmp = data[['title','rating']]\n",
      "print tmp.head()"
     ],
     "language": "python",
     "metadata": {},
     "outputs": [
      {
       "output_type": "stream",
       "stream": "stdout",
       "text": [
        "                                    title  rating\n",
        "0  One Flew Over the Cuckoo's Nest (1975)       5\n",
        "1  One Flew Over the Cuckoo's Nest (1975)       5\n",
        "2  One Flew Over the Cuckoo's Nest (1975)       4\n",
        "3  One Flew Over the Cuckoo's Nest (1975)       4\n",
        "4  One Flew Over the Cuckoo's Nest (1975)       5\n"
       ]
      }
     ],
     "prompt_number": 4
    },
    {
     "cell_type": "code",
     "collapsed": false,
     "input": [
      "mean_rating = tmp.groupby('title').mean()\n",
      "print mean_rating.describe()\n",
      "mean_rating.head(10)"
     ],
     "language": "python",
     "metadata": {},
     "outputs": [
      {
       "output_type": "stream",
       "stream": "stdout",
       "text": [
        "            rating\n",
        "count  3706.000000\n",
        "mean      3.238892\n",
        "std       0.672925\n",
        "min       1.000000\n",
        "25%       2.822705\n",
        "50%       3.331546\n",
        "75%       3.740741\n",
        "max       5.000000\n"
       ]
      },
      {
       "html": [
        "<div style=\"max-height:1000px;max-width:1500px;overflow:auto;\">\n",
        "<table border=\"1\" class=\"dataframe\">\n",
        "  <thead>\n",
        "    <tr style=\"text-align: right;\">\n",
        "      <th></th>\n",
        "      <th>rating</th>\n",
        "    </tr>\n",
        "    <tr>\n",
        "      <th>title</th>\n",
        "      <th></th>\n",
        "    </tr>\n",
        "  </thead>\n",
        "  <tbody>\n",
        "    <tr>\n",
        "      <th>$1,000,000 Duck (1971)</th>\n",
        "      <td> 3.027027</td>\n",
        "    </tr>\n",
        "    <tr>\n",
        "      <th>'Night Mother (1986)</th>\n",
        "      <td> 3.371429</td>\n",
        "    </tr>\n",
        "    <tr>\n",
        "      <th>'Til There Was You (1997)</th>\n",
        "      <td> 2.692308</td>\n",
        "    </tr>\n",
        "    <tr>\n",
        "      <th>'burbs, The (1989)</th>\n",
        "      <td> 2.910891</td>\n",
        "    </tr>\n",
        "    <tr>\n",
        "      <th>...And Justice for All (1979)</th>\n",
        "      <td> 3.713568</td>\n",
        "    </tr>\n",
        "    <tr>\n",
        "      <th>1-900 (1994)</th>\n",
        "      <td> 2.500000</td>\n",
        "    </tr>\n",
        "    <tr>\n",
        "      <th>10 Things I Hate About You (1999)</th>\n",
        "      <td> 3.422857</td>\n",
        "    </tr>\n",
        "    <tr>\n",
        "      <th>101 Dalmatians (1961)</th>\n",
        "      <td> 3.596460</td>\n",
        "    </tr>\n",
        "    <tr>\n",
        "      <th>101 Dalmatians (1996)</th>\n",
        "      <td> 3.046703</td>\n",
        "    </tr>\n",
        "    <tr>\n",
        "      <th>12 Angry Men (1957)</th>\n",
        "      <td> 4.295455</td>\n",
        "    </tr>\n",
        "  </tbody>\n",
        "</table>\n",
        "</div>"
       ],
       "metadata": {},
       "output_type": "pyout",
       "prompt_number": 5,
       "text": [
        "                                     rating\n",
        "title                                      \n",
        "$1,000,000 Duck (1971)             3.027027\n",
        "'Night Mother (1986)               3.371429\n",
        "'Til There Was You (1997)          2.692308\n",
        "'burbs, The (1989)                 2.910891\n",
        "...And Justice for All (1979)      3.713568\n",
        "1-900 (1994)                       2.500000\n",
        "10 Things I Hate About You (1999)  3.422857\n",
        "101 Dalmatians (1961)              3.596460\n",
        "101 Dalmatians (1996)              3.046703\n",
        "12 Angry Men (1957)                4.295455"
       ]
      }
     ],
     "prompt_number": 5
    },
    {
     "cell_type": "code",
     "collapsed": false,
     "input": [
      "print mean_rating.sort('rating', ascending=False).head(10)"
     ],
     "language": "python",
     "metadata": {},
     "outputs": [
      {
       "output_type": "stream",
       "stream": "stdout",
       "text": [
        "                                           rating\n",
        "title                                            \n",
        "Ulysses (Ulisse) (1954)                         5\n",
        "Lured (1947)                                    5\n",
        "Follow the Bitch (1998)                         5\n",
        "Bittersweet Motel (2000)                        5\n",
        "Song of Freedom (1936)                          5\n",
        "One Little Indian (1973)                        5\n",
        "Smashing Time (1967)                            5\n",
        "Schlafes Bruder (Brother of Sleep) (1995)       5\n",
        "Gate of Heavenly Peace, The (1995)              5\n",
        "Baby, The (1973)                                5\n"
       ]
      }
     ],
     "prompt_number": 6
    },
    {
     "cell_type": "markdown",
     "metadata": {},
     "source": [
      "Seems a bit odd?  What's wrong with this picture?"
     ]
    },
    {
     "cell_type": "code",
     "collapsed": false,
     "input": [
      "mean_rating = tmp.groupby('title')['rating'].agg(['mean','count']) \n",
      "print mean_rating.sort('mean', ascending=False).head(10)"
     ],
     "language": "python",
     "metadata": {},
     "outputs": [
      {
       "output_type": "stream",
       "stream": "stdout",
       "text": [
        "                                           mean  count\n",
        "title                                                 \n",
        "Ulysses (Ulisse) (1954)                       5      1\n",
        "Lured (1947)                                  5      1\n",
        "Follow the Bitch (1998)                       5      1\n",
        "Bittersweet Motel (2000)                      5      1\n",
        "Song of Freedom (1936)                        5      1\n",
        "One Little Indian (1973)                      5      1\n",
        "Smashing Time (1967)                          5      2\n",
        "Schlafes Bruder (Brother of Sleep) (1995)     5      1\n",
        "Gate of Heavenly Peace, The (1995)            5      3\n",
        "Baby, The (1973)                              5      1\n"
       ]
      }
     ],
     "prompt_number": 7
    },
    {
     "cell_type": "markdown",
     "metadata": {},
     "source": [
      "###Filter our Movies\n",
      "\n",
      "Only look at movies that have had at least 1000 ratings."
     ]
    },
    {
     "cell_type": "code",
     "collapsed": false,
     "input": [
      "mask = mean_rating['count'] > 1000\n",
      "print mean_rating[mask].head()"
     ],
     "language": "python",
     "metadata": {},
     "outputs": [
      {
       "output_type": "stream",
       "stream": "stdout",
       "text": [
        "                                  mean  count\n",
        "title                                        \n",
        "2001: A Space Odyssey (1968)  4.068765   1716\n",
        "Abyss, The (1989)             3.683965   1715\n",
        "African Queen, The (1951)     4.251656   1057\n",
        "Air Force One (1997)          3.588290   1076\n",
        "Airplane! (1980)              3.971115   1731\n"
       ]
      }
     ],
     "prompt_number": 8
    },
    {
     "cell_type": "code",
     "collapsed": false,
     "input": [
      "mean_rating[mask].sort('mean', ascending=False).head(10)"
     ],
     "language": "python",
     "metadata": {},
     "outputs": [
      {
       "html": [
        "<div style=\"max-height:1000px;max-width:1500px;overflow:auto;\">\n",
        "<table border=\"1\" class=\"dataframe\">\n",
        "  <thead>\n",
        "    <tr style=\"text-align: right;\">\n",
        "      <th></th>\n",
        "      <th>mean</th>\n",
        "      <th>count</th>\n",
        "    </tr>\n",
        "    <tr>\n",
        "      <th>title</th>\n",
        "      <th></th>\n",
        "      <th></th>\n",
        "    </tr>\n",
        "  </thead>\n",
        "  <tbody>\n",
        "    <tr>\n",
        "      <th>Shawshank Redemption, The (1994)</th>\n",
        "      <td> 4.554558</td>\n",
        "      <td> 2227</td>\n",
        "    </tr>\n",
        "    <tr>\n",
        "      <th>Godfather, The (1972)</th>\n",
        "      <td> 4.524966</td>\n",
        "      <td> 2223</td>\n",
        "    </tr>\n",
        "    <tr>\n",
        "      <th>Usual Suspects, The (1995)</th>\n",
        "      <td> 4.517106</td>\n",
        "      <td> 1783</td>\n",
        "    </tr>\n",
        "    <tr>\n",
        "      <th>Schindler's List (1993)</th>\n",
        "      <td> 4.510417</td>\n",
        "      <td> 2304</td>\n",
        "    </tr>\n",
        "    <tr>\n",
        "      <th>Raiders of the Lost Ark (1981)</th>\n",
        "      <td> 4.477725</td>\n",
        "      <td> 2514</td>\n",
        "    </tr>\n",
        "    <tr>\n",
        "      <th>Rear Window (1954)</th>\n",
        "      <td> 4.476190</td>\n",
        "      <td> 1050</td>\n",
        "    </tr>\n",
        "    <tr>\n",
        "      <th>Star Wars: Episode IV - A New Hope (1977)</th>\n",
        "      <td> 4.453694</td>\n",
        "      <td> 2991</td>\n",
        "    </tr>\n",
        "    <tr>\n",
        "      <th>Dr. Strangelove or: How I Learned to Stop Worrying and Love the Bomb (1963)</th>\n",
        "      <td> 4.449890</td>\n",
        "      <td> 1367</td>\n",
        "    </tr>\n",
        "    <tr>\n",
        "      <th>Casablanca (1942)</th>\n",
        "      <td> 4.412822</td>\n",
        "      <td> 1669</td>\n",
        "    </tr>\n",
        "    <tr>\n",
        "      <th>Sixth Sense, The (1999)</th>\n",
        "      <td> 4.406263</td>\n",
        "      <td> 2459</td>\n",
        "    </tr>\n",
        "  </tbody>\n",
        "</table>\n",
        "</div>"
       ],
       "metadata": {},
       "output_type": "pyout",
       "prompt_number": 9,
       "text": [
        "                                                                                 mean  \\\n",
        "title                                                                                   \n",
        "Shawshank Redemption, The (1994)                                             4.554558   \n",
        "Godfather, The (1972)                                                        4.524966   \n",
        "Usual Suspects, The (1995)                                                   4.517106   \n",
        "Schindler's List (1993)                                                      4.510417   \n",
        "Raiders of the Lost Ark (1981)                                               4.477725   \n",
        "Rear Window (1954)                                                           4.476190   \n",
        "Star Wars: Episode IV - A New Hope (1977)                                    4.453694   \n",
        "Dr. Strangelove or: How I Learned to Stop Worrying and Love the Bomb (1963)  4.449890   \n",
        "Casablanca (1942)                                                            4.412822   \n",
        "Sixth Sense, The (1999)                                                      4.406263   \n",
        "\n",
        "                                                                             count  \n",
        "title                                                                               \n",
        "Shawshank Redemption, The (1994)                                              2227  \n",
        "Godfather, The (1972)                                                         2223  \n",
        "Usual Suspects, The (1995)                                                    1783  \n",
        "Schindler's List (1993)                                                       2304  \n",
        "Raiders of the Lost Ark (1981)                                                2514  \n",
        "Rear Window (1954)                                                            1050  \n",
        "Star Wars: Episode IV - A New Hope (1977)                                     2991  \n",
        "Dr. Strangelove or: How I Learned to Stop Worrying and Love the Bomb (1963)   1367  \n",
        "Casablanca (1942)                                                             1669  \n",
        "Sixth Sense, The (1999)                                                       2459  "
       ]
      }
     ],
     "prompt_number": 9
    },
    {
     "cell_type": "markdown",
     "metadata": {},
     "source": [
      "##What is the best movie for both men and women?"
     ]
    },
    {
     "cell_type": "markdown",
     "metadata": {},
     "source": [
      "We would like to creat another data frame of our data that contains mean ratings with movie totals as row lables and gender as colunm lables."
     ]
    },
    {
     "cell_type": "code",
     "collapsed": false,
     "input": [
      "mean_ratings = pd.pivot_table(data, 'rating', index='title', columns ='gender', aggfunc='mean')\n",
      "print mean_ratings.head(10)"
     ],
     "language": "python",
     "metadata": {},
     "outputs": [
      {
       "output_type": "stream",
       "stream": "stdout",
       "text": [
        "gender                                    F         M\n",
        "title                                                \n",
        "$1,000,000 Duck (1971)             3.375000  2.761905\n",
        "'Night Mother (1986)               3.388889  3.352941\n",
        "'Til There Was You (1997)          2.675676  2.733333\n",
        "'burbs, The (1989)                 2.793478  2.962085\n",
        "...And Justice for All (1979)      3.828571  3.689024\n",
        "1-900 (1994)                       2.000000  3.000000\n",
        "10 Things I Hate About You (1999)  3.646552  3.311966\n",
        "101 Dalmatians (1961)              3.791444  3.500000\n",
        "101 Dalmatians (1996)              3.240000  2.911215\n",
        "12 Angry Men (1957)                4.184397  4.328421\n"
       ]
      }
     ],
     "prompt_number": 10
    },
    {
     "cell_type": "code",
     "collapsed": false,
     "input": [
      "print mask.head(10)"
     ],
     "language": "python",
     "metadata": {},
     "outputs": [
      {
       "output_type": "stream",
       "stream": "stdout",
       "text": [
        "title\n",
        "$1,000,000 Duck (1971)               False\n",
        "'Night Mother (1986)                 False\n",
        "'Til There Was You (1997)            False\n",
        "'burbs, The (1989)                   False\n",
        "...And Justice for All (1979)        False\n",
        "1-900 (1994)                         False\n",
        "10 Things I Hate About You (1999)    False\n",
        "101 Dalmatians (1961)                False\n",
        "101 Dalmatians (1996)                False\n",
        "12 Angry Men (1957)                  False\n",
        "Name: count, dtype: bool\n"
       ]
      }
     ],
     "prompt_number": 11
    },
    {
     "cell_type": "markdown",
     "metadata": {},
     "source": [
      "But this has **all** the movies, not just the ones with the largest **count**.\n",
      "\n",
      "Notice:\n",
      "\n",
      "- The DataFrame `mean_ratings` has the `title` as the index.\n",
      "- The `mask` also has `title` as the index."
     ]
    },
    {
     "cell_type": "code",
     "collapsed": false,
     "input": [
      "top_mean_ratings = mean_ratings.ix[mask]\n",
      "print top_mean_ratings.head()"
     ],
     "language": "python",
     "metadata": {},
     "outputs": [
      {
       "output_type": "stream",
       "stream": "stdout",
       "text": [
        "gender                               F         M\n",
        "title                                           \n",
        "2001: A Space Odyssey (1968)  3.825581  4.129738\n",
        "Abyss, The (1989)             3.659236  3.689507\n",
        "African Queen, The (1951)     4.324232  4.223822\n",
        "Air Force One (1997)          3.699588  3.555822\n",
        "Airplane! (1980)              3.656566  4.064419\n"
       ]
      }
     ],
     "prompt_number": 12
    },
    {
     "cell_type": "markdown",
     "metadata": {},
     "source": [
      "What are the top rated movies by women?"
     ]
    },
    {
     "cell_type": "code",
     "collapsed": false,
     "input": [
      "top_female = top_mean_ratings.sort('F', ascending=False)\n",
      "print top_female.head()"
     ],
     "language": "python",
     "metadata": {},
     "outputs": [
      {
       "output_type": "stream",
       "stream": "stdout",
       "text": [
        "gender                                   F         M\n",
        "title                                               \n",
        "Schindler's List (1993)           4.562602  4.491415\n",
        "Shawshank Redemption, The (1994)  4.539075  4.560625\n",
        "Usual Suspects, The (1995)        4.513317  4.518248\n",
        "Rear Window (1954)                4.484536  4.472991\n",
        "Sixth Sense, The (1999)           4.477410  4.379944\n"
       ]
      }
     ],
     "prompt_number": 13
    },
    {
     "cell_type": "markdown",
     "metadata": {},
     "source": [
      "What are the top rated by men?"
     ]
    },
    {
     "cell_type": "code",
     "collapsed": false,
     "input": [
      "top_male = top_mean_ratings.sort('M', ascending=False)\n",
      "print top_male.head(5)"
     ],
     "language": "python",
     "metadata": {},
     "outputs": [
      {
       "output_type": "stream",
       "stream": "stdout",
       "text": [
        "gender                                            F         M\n",
        "title                                                        \n",
        "Godfather, The (1972)                      4.314700  4.583333\n",
        "Shawshank Redemption, The (1994)           4.539075  4.560625\n",
        "Raiders of the Lost Ark (1981)             4.332168  4.520597\n",
        "Usual Suspects, The (1995)                 4.513317  4.518248\n",
        "Star Wars: Episode IV - A New Hope (1977)  4.302937  4.495307\n"
       ]
      }
     ],
     "prompt_number": 14
    },
    {
     "cell_type": "markdown",
     "metadata": {},
     "source": [
      "###Which ones do men and women differ on the least, i.e., date night?"
     ]
    },
    {
     "cell_type": "code",
     "collapsed": false,
     "input": [
      "top_mean_ratings['diff'] = abs(top_mean_ratings['F'] - top_mean_ratings['M'])\n",
      "print top_mean_ratings.sort('diff', ascending=True).head(10)"
     ],
     "language": "python",
     "metadata": {},
     "outputs": [
      {
       "output_type": "stream",
       "stream": "stdout",
       "text": [
        "gender                                              F         M      diff\n",
        "title                                                                    \n",
        "Jerry Maguire (1996)                         3.758315  3.759424  0.001109\n",
        "Indiana Jones and the Temple of Doom (1984)  3.674312  3.676568  0.002256\n",
        "Good Will Hunting (1997)                     4.174672  4.177064  0.002392\n",
        "Fugitive, The (1993)                         4.100457  4.104046  0.003590\n",
        "Batman Returns (1992)                        2.980100  2.975904  0.004196\n",
        "Usual Suspects, The (1995)                   4.513317  4.518248  0.004931\n",
        "Green Mile, The (1999)                       4.159722  4.153105  0.006617\n",
        "Boogie Nights (1997)                         3.763838  3.771295  0.007458\n",
        "Chicken Run (2000)                           3.885559  3.877339  0.008220\n",
        "Blair Witch Project, The (1999)              3.038732  3.029381  0.009351\n"
       ]
      },
      {
       "output_type": "stream",
       "stream": "stderr",
       "text": [
        "-c:1: SettingWithCopyWarning: \n",
        "A value is trying to be set on a copy of a slice from a DataFrame.\n",
        "Try using .loc[row_indexer,col_indexer] = value instead\n",
        "\n",
        "See the the caveats in the documentation: http://pandas.pydata.org/pandas-docs/stable/indexing.html#indexing-view-versus-copy\n"
       ]
      }
     ],
     "prompt_number": 15
    },
    {
     "cell_type": "markdown",
     "metadata": {},
     "source": [
      "###What's the worst movie for date night?"
     ]
    },
    {
     "cell_type": "code",
     "collapsed": false,
     "input": [
      "print top_mean_ratings.sort('diff', ascending=False).head(10)"
     ],
     "language": "python",
     "metadata": {},
     "outputs": [
      {
       "output_type": "stream",
       "stream": "stdout",
       "text": [
        "gender                                              F         M      diff\n",
        "title                                                                    \n",
        "Animal House (1978)                          3.628906  4.167192  0.538286\n",
        "Rocky Horror Picture Show, The (1975)        3.673016  3.160131  0.512885\n",
        "Mary Poppins (1964)                          4.197740  3.730594  0.467147\n",
        "Reservoir Dogs (1992)                        3.769231  4.213873  0.444642\n",
        "Gone with the Wind (1939)                    4.269841  3.829371  0.440471\n",
        "South Park: Bigger, Longer and Uncut (1999)  3.422481  3.846686  0.424206\n",
        "Airplane! (1980)                             3.656566  4.064419  0.407854\n",
        "Predator (1987)                              3.299401  3.706195  0.406793\n",
        "Godfather: Part II, The (1974)               4.040936  4.437778  0.396842\n",
        "Clockwork Orange, A (1971)                   3.757009  4.145813  0.388803\n"
       ]
      }
     ],
     "prompt_number": 16
    },
    {
     "cell_type": "code",
     "collapsed": false,
     "input": [],
     "language": "python",
     "metadata": {},
     "outputs": []
    }
   ],
   "metadata": {}
  }
 ]
}