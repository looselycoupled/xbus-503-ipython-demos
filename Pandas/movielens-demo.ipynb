{
 "metadata": {
  "css": [
   ""
  ],
  "name": "",
  "signature": "sha256:c0fd7cd2183ccc77f70b5c6fd89b29fa7892d7ddd82a10903c466e35d3ce577c"
 },
 "nbformat": 3,
 "nbformat_minor": 0,
 "worksheets": [
  {
   "cells": [
    {
     "cell_type": "markdown",
     "metadata": {},
     "source": [
      "# Movies\n",
      "\n",
      "This notebook was originally authored by Abhijit Dasgupta and was adapted from [Python for Data Analysis](http://shop.oreilly.com/product/0636920023784.do) by Wes McKinney"
     ]
    },
    {
     "cell_type": "markdown",
     "metadata": {},
     "source": [
      "##Objectives\n",
      "\n",
      "* What are the highest rated movies?\n",
      "* What is the best movie for date night?\n",
      "* Which movies do men and women disagree on the most?"
     ]
    },
    {
     "cell_type": "code",
     "collapsed": true,
     "input": [
      "import pandas as pd\n",
      "import os\n",
      "engine='python'"
     ],
     "language": "python",
     "metadata": {},
     "outputs": []
    },
    {
     "cell_type": "markdown",
     "metadata": {},
     "source": [
      "###Reading in the data using `merge`"
     ]
    },
    {
     "cell_type": "code",
     "collapsed": false,
     "input": [
      "unames = ['user_id','gender','age','occupation','zip']\n",
      "users = pd.read_table(os.path.join('data','movies','users.dat'), \n",
      "                      sep='::', header=None, names=unames)\n",
      "   \n",
      "rnames = ['user_id', 'movie_id', 'rating', 'timestamp']\n",
      "ratings = pd.read_table(os.path.join('data','movies','ratings.dat'), \n",
      "                        sep='::', header=None, names=rnames)\n",
      "\n",
      "mnames = ['movie_id', 'title','genres']\n",
      "movies = pd.read_table(os.path.join('data','movies','movies.dat'), \n",
      "                       sep='::', header=None, names=mnames)\n",
      "data = pd.merge(pd.merge(ratings, users), movies)\n"
     ],
     "language": "python",
     "metadata": {},
     "outputs": []
    },
    {
     "cell_type": "code",
     "collapsed": false,
     "input": [
      "data.head()"
     ],
     "language": "python",
     "metadata": {},
     "outputs": []
    },
    {
     "cell_type": "markdown",
     "metadata": {},
     "source": [
      "## What is the highest rated movie?"
     ]
    },
    {
     "cell_type": "code",
     "collapsed": false,
     "input": [
      "tmp = data[['title','rating']]\n",
      "print tmp.head()"
     ],
     "language": "python",
     "metadata": {},
     "outputs": []
    },
    {
     "cell_type": "code",
     "collapsed": false,
     "input": [
      "mean_rating = tmp.groupby('title').mean()\n",
      "print mean_rating.describe()\n",
      "mean_rating.head(10)"
     ],
     "language": "python",
     "metadata": {},
     "outputs": []
    },
    {
     "cell_type": "code",
     "collapsed": false,
     "input": [
      "print mean_rating.sort('rating', ascending=False).head(10)"
     ],
     "language": "python",
     "metadata": {},
     "outputs": []
    },
    {
     "cell_type": "markdown",
     "metadata": {},
     "source": [
      "Seems a bit odd?  What's wrong with this picture?"
     ]
    },
    {
     "cell_type": "code",
     "collapsed": false,
     "input": [
      "mean_rating = tmp.groupby('title')['rating'].agg(['mean','count']) \n",
      "print mean_rating.sort('mean', ascending=False).head(10)"
     ],
     "language": "python",
     "metadata": {},
     "outputs": []
    },
    {
     "cell_type": "markdown",
     "metadata": {},
     "source": [
      "###Filter our Movies\n",
      "\n",
      "Only look at movies that have had at least 1000 ratings."
     ]
    },
    {
     "cell_type": "code",
     "collapsed": false,
     "input": [
      "mask = mean_rating['count'] > 1000\n",
      "print mean_rating[mask].head()"
     ],
     "language": "python",
     "metadata": {},
     "outputs": []
    },
    {
     "cell_type": "code",
     "collapsed": false,
     "input": [
      "mean_rating[mask].sort('mean', ascending=False).head(10)"
     ],
     "language": "python",
     "metadata": {},
     "outputs": []
    },
    {
     "cell_type": "markdown",
     "metadata": {},
     "source": [
      "##What is the best movie for both men and women?"
     ]
    },
    {
     "cell_type": "markdown",
     "metadata": {},
     "source": [
      "We would like to creat another data frame of our data that contains mean ratings with movie totals as row lables and gender as colunm lables."
     ]
    },
    {
     "cell_type": "code",
     "collapsed": false,
     "input": [
      "mean_ratings = pd.pivot_table(data, 'rating', index='title', columns ='gender', aggfunc='mean')\n",
      "print mean_ratings.head(10)"
     ],
     "language": "python",
     "metadata": {},
     "outputs": []
    },
    {
     "cell_type": "code",
     "collapsed": false,
     "input": [
      "print mask.head(10)"
     ],
     "language": "python",
     "metadata": {},
     "outputs": []
    },
    {
     "cell_type": "markdown",
     "metadata": {},
     "source": [
      "But this has **all** the movies, not just the ones with the largest **count**.\n",
      "\n",
      "Notice:\n",
      "\n",
      "- The DataFrame `mean_ratings` has the `title` as the index.\n",
      "- The `mask` also has `title` as the index."
     ]
    },
    {
     "cell_type": "code",
     "collapsed": false,
     "input": [
      "top_mean_ratings = mean_ratings.ix[mask]\n",
      "print top_mean_ratings.head()"
     ],
     "language": "python",
     "metadata": {},
     "outputs": []
    },
    {
     "cell_type": "markdown",
     "metadata": {},
     "source": [
      "What are the top rated movies by women?"
     ]
    },
    {
     "cell_type": "code",
     "collapsed": false,
     "input": [
      "top_female = top_mean_ratings.sort('F', ascending=False)\n",
      "print top_female.head()"
     ],
     "language": "python",
     "metadata": {},
     "outputs": []
    },
    {
     "cell_type": "markdown",
     "metadata": {},
     "source": [
      "What are the top rated by men?"
     ]
    },
    {
     "cell_type": "code",
     "collapsed": false,
     "input": [
      "top_male = top_mean_ratings.sort('M', ascending=False)\n",
      "print top_male.head(5)"
     ],
     "language": "python",
     "metadata": {},
     "outputs": []
    },
    {
     "cell_type": "markdown",
     "metadata": {},
     "source": [
      "###Which ones do men and women differ on the least, i.e., date night?"
     ]
    },
    {
     "cell_type": "code",
     "collapsed": false,
     "input": [
      "top_mean_ratings['diff'] = abs(top_mean_ratings['F'] - top_mean_ratings['M'])\n",
      "print top_mean_ratings.sort('diff', ascending=True).head(10)"
     ],
     "language": "python",
     "metadata": {},
     "outputs": []
    },
    {
     "cell_type": "markdown",
     "metadata": {},
     "source": [
      "###What's the worst movie for date night?"
     ]
    },
    {
     "cell_type": "code",
     "collapsed": false,
     "input": [
      "print top_mean_ratings.sort('diff', ascending=False).head(10)"
     ],
     "language": "python",
     "metadata": {},
     "outputs": []
    },
    {
     "cell_type": "code",
     "collapsed": false,
     "input": [],
     "language": "python",
     "metadata": {},
     "outputs": []
    }
   ],
   "metadata": {}
  }
 ]
}